{
 "cells": [
  {
   "cell_type": "markdown",
   "id": "7bc7ca25",
   "metadata": {},
   "source": [
    "## Reading Web Server logs using Spark Structured Streaming\n",
    "\n",
    "As we are ready with the ability to simulate log message generation, let us get into reading these logs using Spark Structured Streaming.\n",
    "* `spark` which is of type `sparkSession` have an attribute called as `readStream`. It is of type `pyspark.sql.streaming.DataStreamReader`.\n",
    "* It exposes APIs such as `csv`, `json`, etc along with `format`. To read data from web servers, we can use `socket` as format.\n",
    "* We need to set options `host` and `port`, then invoke `load` to read data in streaming fashion.\n",
    "* It will create an object which will be of type `pyspark.sql.dataframe.DataFrame`."
   ]
  },
  {
   "cell_type": "code",
   "execution_count": null,
   "id": "d4e1f049",
   "metadata": {},
   "outputs": [],
   "source": [
    "from pyspark.sql import SparkSession\n",
    "\n",
    "import getpass\n",
    "username = getpass.getuser()\n",
    "\n",
    "spark = SparkSession. \\\n",
    "    builder. \\\n",
    "    config('spark.ui.port', '0'). \\\n",
    "    config(\"spark.sql.warehouse.dir\", f\"/user/{username}/warehouse\"). \\\n",
    "    enableHiveSupport(). \\\n",
    "    appName(f'{username} | Python - Overview of Structured Streaming'). \\\n",
    "    master('yarn'). \\\n",
    "    getOrCreate()"
   ]
  },
  {
   "cell_type": "code",
   "execution_count": null,
   "id": "f0433ce1",
   "metadata": {},
   "outputs": [],
   "source": [
    "socketDF = spark \\\n",
    "    .readStream \\\n",
    "    .format(\"socket\") \\\n",
    "    .option(\"host\", \"localhost\") \\\n",
    "    .option(\"port\", 9000) \\\n",
    "    .load()"
   ]
  },
  {
   "cell_type": "code",
   "execution_count": null,
   "id": "d5bbec2f",
   "metadata": {},
   "outputs": [],
   "source": [
    "socketDF.isStreaming"
   ]
  },
  {
   "cell_type": "code",
   "execution_count": null,
   "id": "8c203da2",
   "metadata": {},
   "outputs": [],
   "source": [
    "socketDF.printSchema()"
   ]
  },
  {
   "cell_type": "code",
   "execution_count": null,
   "id": "60a5186f",
   "metadata": {},
   "outputs": [],
   "source": [
    "socketDF.show() # throws exceptions"
   ]
  },
  {
   "cell_type": "code",
   "execution_count": null,
   "id": "70fec5c9",
   "metadata": {},
   "outputs": [],
   "source": [
    "socketDF \\\n",
    "    .writeStream \\\n",
    "    .outputMode(\"append\") \\\n",
    "    .format(\"console\") \\\n",
    "    .start()"
   ]
  },
  {
   "cell_type": "markdown",
   "id": "13983bfc",
   "metadata": {},
   "source": [
    "* Run the below code and watch the output. You will see messages being processed every 5 seconds."
   ]
  },
  {
   "cell_type": "code",
   "execution_count": null,
   "id": "ce69bac6",
   "metadata": {},
   "outputs": [],
   "source": [
    "socketDF \\\n",
    "    .writeStream \\\n",
    "    .outputMode(\"append\") \\\n",
    "    .format(\"console\") \\\n",
    "    .trigger(processingTime='5 seconds') \\\n",
    "    .start()\n",
    "\n",
    "# Triggers every 5 seconds"
   ]
  }
 ],
 "metadata": {
  "kernelspec": {
   "display_name": "Python 3",
   "language": "python",
   "name": "python3"
  },
  "language_info": {
   "codemirror_mode": {
    "name": "ipython",
    "version": 3
   },
   "file_extension": ".py",
   "mimetype": "text/x-python",
   "name": "python",
   "nbconvert_exporter": "python",
   "pygments_lexer": "ipython3",
   "version": "3.6.12"
  }
 },
 "nbformat": 4,
 "nbformat_minor": 5
}
