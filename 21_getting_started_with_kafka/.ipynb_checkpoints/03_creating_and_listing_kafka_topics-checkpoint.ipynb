{
 "cells": [
  {
   "cell_type": "markdown",
   "metadata": {},
   "source": [
    "## Creating and Listing Kafka Topics\n",
    "\n",
    "As part of this topic let us see how we can manage Kafka topics using command line.\n",
    "* List the topics in the Kafka cluster\n",
    "* Drop the topic, if it exists\n",
    "* Create the topic using login user prefix and then retail. We will create topic with partitions as 3 and replication factor as 2.\n",
    "* List the topics to verify whether it is successfully created or not.\n",
    "* Describe the topic to get the details related to partitions of the topic.\n",
    "\n",
    "We need to pass zookeeper details to manage topics using `kafka-topics.sh` command."
   ]
  },
  {
   "cell_type": "markdown",
   "metadata": {},
   "source": [
    "Here are the commands to validate these on single node cluster for your reference.\n",
    "\n",
    "* List the topics in the Kafka cluster"
   ]
  },
  {
   "cell_type": "code",
   "execution_count": null,
   "metadata": {},
   "outputs": [],
   "source": [
    "%%sh\n",
    "\n",
    "/opt/kafka/bin/kafka-topics.sh --list \\\n",
    "    --zookeeper localhost:2181"
   ]
  },
  {
   "cell_type": "markdown",
   "metadata": {},
   "source": [
    "* Drop the topic, if it exists"
   ]
  },
  {
   "cell_type": "code",
   "execution_count": null,
   "metadata": {},
   "outputs": [],
   "source": [
    "%%sh\n",
    "\n",
    "/opt/kafka/bin/kafka-topics.sh --delete \\\n",
    "    --zookeeper locahost:2181 \\\n",
    "    --topic `whoami`_retail"
   ]
  },
  {
   "cell_type": "markdown",
   "metadata": {},
   "source": [
    "* Create the topic using login user prefix and then retail. We will create topic with partitions as 3 and replication factor as 2."
   ]
  },
  {
   "cell_type": "code",
   "execution_count": null,
   "metadata": {},
   "outputs": [],
   "source": [
    "%%sh\n",
    "\n",
    "/opt/kafka/bin/kafka-topics.sh --create \\\n",
    "    --zookeeper localhost:2181 \\\n",
    "    --replication-factor 1 \\\n",
    "    --partitions 3 \\\n",
    "    --topic `whoami`_retail"
   ]
  },
  {
   "cell_type": "markdown",
   "metadata": {},
   "source": [
    "* List the topics to verify whether it is successfully created or not."
   ]
  },
  {
   "cell_type": "code",
   "execution_count": null,
   "metadata": {},
   "outputs": [],
   "source": [
    "%%sh\n",
    "\n",
    "/opt/kafka/bin/kafka-topics.sh --list \\\n",
    "    --zookeeper localhost:2181 \\\n",
    "    --topic `whoami`_retail"
   ]
  },
  {
   "cell_type": "markdown",
   "metadata": {},
   "source": [
    "* Describe the topic to get the details related to partitions of the topic."
   ]
  },
  {
   "cell_type": "code",
   "execution_count": null,
   "metadata": {},
   "outputs": [],
   "source": [
    "%%sh\n",
    "\n",
    "/opt/kafka/bin/kafka-topics.sh --describe \\\n",
    "    --zookeeper localhost:2181 \\\n",
    "    --topic `whoami`_retail"
   ]
  },
  {
   "cell_type": "markdown",
   "metadata": {},
   "source": [
    "Here are the commands to validate these on multi node cluster for your reference.\n",
    "\n",
    "* List the topics in the Kafka cluster"
   ]
  },
  {
   "cell_type": "code",
   "execution_count": null,
   "metadata": {},
   "outputs": [],
   "source": [
    "%%sh\n",
    "\n",
    "/opt/kafka/bin/kafka-topics.sh --list \\\n",
    "    --zookeeper m01.itversity.com:2181,m02.itversity.com:2181,w01.itversity.com:2181"
   ]
  },
  {
   "cell_type": "markdown",
   "metadata": {},
   "source": [
    "* Drop the topic, if it exists"
   ]
  },
  {
   "cell_type": "code",
   "execution_count": null,
   "metadata": {},
   "outputs": [],
   "source": [
    "%%sh\n",
    "\n",
    "/opt/kafka/bin/kafka-topics.sh --delete \\\n",
    "    --zookeeper m01.itversity.com:2181,m02.itversity.com:2181,w01.itversity.com:2181 \\\n",
    "    --topic `whoami`_retail"
   ]
  },
  {
   "cell_type": "markdown",
   "metadata": {},
   "source": [
    "* Create the topic using login user prefix and then retail. We will create topic with partitions as 3 and replication factor as 2."
   ]
  },
  {
   "cell_type": "code",
   "execution_count": null,
   "metadata": {},
   "outputs": [],
   "source": [
    "%%sh\n",
    "\n",
    "/opt/kafka/bin/kafka-topics.sh --create \\\n",
    "    --zookeeper m01.itversity.com:2181,m02.itversity.com:2181,w01.itversity.com:2181 \\\n",
    "    --replication-factor 2 \\\n",
    "    --partitions 3 \\\n",
    "    --topic `whoami`_retail"
   ]
  },
  {
   "cell_type": "markdown",
   "metadata": {},
   "source": [
    "* List the topics to verify whether it is successfully created or not."
   ]
  },
  {
   "cell_type": "code",
   "execution_count": null,
   "metadata": {},
   "outputs": [],
   "source": [
    "%%sh\n",
    "\n",
    "/opt/kafka/bin/kafka-topics.sh --list \\\n",
    "    --zookeeper m01.itversity.com:2181,m02.itversity.com:2181,w01.itversity.com:2181 \\\n",
    "    --topic `whoami`_retail"
   ]
  },
  {
   "cell_type": "markdown",
   "metadata": {},
   "source": [
    "* Describe the topic to get the details related to partitions of the topic."
   ]
  },
  {
   "cell_type": "code",
   "execution_count": null,
   "metadata": {},
   "outputs": [],
   "source": [
    "%%sh\n",
    "\n",
    "/opt/kafka/bin/kafka-topics.sh --describe \\\n",
    "    --zookeeper m01.itversity.com:2181,m02.itversity.com:2181,w01.itversity.com:2181 \\\n",
    "    --topic `whoami`_retail"
   ]
  }
 ],
 "metadata": {
  "kernelspec": {
   "display_name": "Pyspark 2",
   "language": "python",
   "name": "pyspark2"
  },
  "language_info": {
   "codemirror_mode": {
    "name": "ipython",
    "version": 3
   },
   "file_extension": ".py",
   "mimetype": "text/x-python",
   "name": "python",
   "nbconvert_exporter": "python",
   "pygments_lexer": "ipython3",
   "version": "3.6.12"
  }
 },
 "nbformat": 4,
 "nbformat_minor": 4
}
