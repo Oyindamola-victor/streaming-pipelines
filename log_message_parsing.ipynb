{
 "cells": [
  {
   "cell_type": "code",
   "execution_count": 50,
   "id": "64bdbed4",
   "metadata": {},
   "outputs": [],
   "source": [
    "APACHE_ACCESS_LOG_PATTERN = '^(\\S+) (\\S+) (\\S+) \\[([\\w:/]+\\s[+\\-]\\d{4})\\] \"(.*?)\" (\\d+) (\\d+) (\\S+) \"(.*?)\"'"
   ]
  },
  {
   "cell_type": "code",
   "execution_count": 51,
   "id": "1f3be306",
   "metadata": {},
   "outputs": [],
   "source": [
    "log_messages = '''152.66.31.153 - - [21/Aug/2021:22:57:29 -0800] \"GET /department/fitness/products HTTP/1.1\" 404 436 \"-\" \"Mozilla/5.0 (Windows NT 6.1; WOW64) AppleWebKit/537.36 (KHTML, like Gecko) Chrome/35.0.1916.153 Safari/537.36\"\n",
    "7.75.106.19 - - [21/Aug/2021:22:57:30 -0800] \"GET /add_to_cart/1228 HTTP/1.1\" 200 1938 \"-\" \"Mozilla/5.0 (Macintosh; Intel Mac OS X 10_9_3) AppleWebKit/537.76.4 (KHTML, like Gecko) Version/7.0.4 Safari/537.76.4\"\n",
    "178.182.201.250 - - [21/Aug/2021:22:57:31 -0800] \"GET /login HTTP/1.1\" 200 1028 \"-\" \"Mozilla/5.0 (Windows NT 6.3; WOW64; rv:30.0) Gecko/20100101 Firefox/30.0\"\n",
    "161.251.115.98 - - [21/Aug/2021:22:57:32 -0800] \"GET /departments HTTP/1.1\" 200 915 \"-\" \"Mozilla/5.0 (Windows NT 6.1; WOW64; Trident/7.0; rv:11.0) like Gecko\"\n",
    "32.162.64.231 - - [21/Aug/2021:22:57:33 -0800] \"GET /departments HTTP/1.1\" 200 1040 \"-\" \"Mozilla/5.0 (Macintosh; Intel Mac OS X 10.9; rv:30.0) Gecko/20100101 Firefox/30.0\"\n",
    "126.205.158.172 - - [21/Aug/2021:22:57:34 -0800] \"GET /checkout HTTP/1.1\" 200 1802 \"-\" \"Mozilla/5.0 (Macintosh; Intel Mac OS X 10.9; rv:30.0) Gecko/20100101 Firefox/30.0\"\n",
    "131.250.79.136 - - [21/Aug/2021:22:57:35 -0800] \"GET /support HTTP/1.1\" 200 1015 \"-\" \"Mozilla/5.0 (Macintosh; Intel Mac OS X 10_9_4) AppleWebKit/537.36 (KHTML, like Gecko) Chrome/35.0.1916.153 Safari/537.36\"\n",
    "11.186.99.191 - - [21/Aug/2021:22:57:36 -0800] \"GET /department/team%20sports/categories HTTP/1.1\" 200 2014 \"-\" \"Mozilla/5.0 (Windows NT 6.1; WOW64) AppleWebKit/537.36 (KHTML, like Gecko) Chrome/36.0.1985.125 Safari/537.36\"\n",
    "70.96.85.132 - - [21/Aug/2021:22:57:37 -0800] \"GET /checkout HTTP/1.1\" 200 648 \"-\" \"Mozilla/5.0 (Macintosh; Intel Mac OS X 10_9_3) AppleWebKit/537.76.4 (KHTML, like Gecko) Version/7.0.4 Safari/537.76.4\"\n",
    "52.27.254.176 - - [21/Aug/2021:22:57:38 -0800] \"GET /departments HTTP/1.1\" 200 268 \"-\" \"Mozilla/5.0 (Windows NT 6.1; WOW64) AppleWebKit/537.36 (KHTML, like Gecko) Chrome/35.0.1916.153 Safari/537.36\"'''"
   ]
  },
  {
   "cell_type": "code",
   "execution_count": 52,
   "id": "4d22ab63",
   "metadata": {},
   "outputs": [],
   "source": [
    "messages = log_messages.splitlines()"
   ]
  },
  {
   "cell_type": "code",
   "execution_count": 53,
   "id": "553747f2",
   "metadata": {},
   "outputs": [],
   "source": [
    "import re"
   ]
  },
  {
   "cell_type": "code",
   "execution_count": 54,
   "id": "73b27f2d",
   "metadata": {},
   "outputs": [],
   "source": [
    "match = re.search(APACHE_ACCESS_LOG_PATTERN, messages[0])"
   ]
  },
  {
   "cell_type": "code",
   "execution_count": 55,
   "id": "bf634ee5",
   "metadata": {},
   "outputs": [
    {
     "data": {
      "text/plain": [
       "'152.66.31.153 - - [21/Aug/2021:22:57:29 -0800] \"GET /department/fitness/products HTTP/1.1\" 404 436 \"-\" \"Mozilla/5.0 (Windows NT 6.1; WOW64) AppleWebKit/537.36 (KHTML, like Gecko) Chrome/35.0.1916.153 Safari/537.36\"'"
      ]
     },
     "execution_count": 55,
     "metadata": {},
     "output_type": "execute_result"
    }
   ],
   "source": [
    "match.group()"
   ]
  },
  {
   "cell_type": "code",
   "execution_count": 56,
   "id": "efa2e76a",
   "metadata": {},
   "outputs": [
    {
     "data": {
      "text/plain": [
       "'21/Aug/2021:22:57:29 -0800'"
      ]
     },
     "execution_count": 56,
     "metadata": {},
     "output_type": "execute_result"
    }
   ],
   "source": [
    "match.group(4)"
   ]
  },
  {
   "cell_type": "code",
   "execution_count": 57,
   "id": "707ddb78",
   "metadata": {},
   "outputs": [
    {
     "data": {
      "text/plain": [
       "'GET /department/fitness/products HTTP/1.1'"
      ]
     },
     "execution_count": 57,
     "metadata": {},
     "output_type": "execute_result"
    }
   ],
   "source": [
    "match.group(5)"
   ]
  },
  {
   "cell_type": "code",
   "execution_count": 58,
   "id": "a477e168",
   "metadata": {},
   "outputs": [
    {
     "data": {
      "text/plain": [
       "'404'"
      ]
     },
     "execution_count": 58,
     "metadata": {},
     "output_type": "execute_result"
    }
   ],
   "source": [
    "match.group(6)"
   ]
  },
  {
   "cell_type": "code",
   "execution_count": 59,
   "id": "609b96f1",
   "metadata": {},
   "outputs": [
    {
     "data": {
      "text/plain": [
       "'436'"
      ]
     },
     "execution_count": 59,
     "metadata": {},
     "output_type": "execute_result"
    }
   ],
   "source": [
    "match.group(7)"
   ]
  },
  {
   "cell_type": "code",
   "execution_count": 61,
   "id": "17fb5e1b",
   "metadata": {},
   "outputs": [
    {
     "data": {
      "text/plain": [
       "'\"-\"'"
      ]
     },
     "execution_count": 61,
     "metadata": {},
     "output_type": "execute_result"
    }
   ],
   "source": [
    "match.group(8)"
   ]
  },
  {
   "cell_type": "code",
   "execution_count": 60,
   "id": "09bcade1",
   "metadata": {},
   "outputs": [
    {
     "data": {
      "text/plain": [
       "'Mozilla/5.0 (Windows NT 6.1; WOW64) AppleWebKit/537.36 (KHTML, like Gecko) Chrome/35.0.1916.153 Safari/537.36'"
      ]
     },
     "execution_count": 60,
     "metadata": {},
     "output_type": "execute_result"
    }
   ],
   "source": [
    "match.group(9)"
   ]
  },
  {
   "cell_type": "code",
   "execution_count": 63,
   "id": "01247be1",
   "metadata": {},
   "outputs": [
    {
     "data": {
      "text/plain": [
       "('152.66.31.153',\n",
       " '-',\n",
       " '-',\n",
       " '21/Aug/2021:22:57:29 -0800',\n",
       " 'GET /department/fitness/products HTTP/1.1',\n",
       " '404',\n",
       " '436',\n",
       " '\"-\"',\n",
       " 'Mozilla/5.0 (Windows NT 6.1; WOW64) AppleWebKit/537.36 (KHTML, like Gecko) Chrome/35.0.1916.153 Safari/537.36')"
      ]
     },
     "execution_count": 63,
     "metadata": {},
     "output_type": "execute_result"
    }
   ],
   "source": [
    "match.groups()"
   ]
  },
  {
   "cell_type": "code",
   "execution_count": null,
   "id": "4bd378cc",
   "metadata": {},
   "outputs": [],
   "source": []
  }
 ],
 "metadata": {
  "kernelspec": {
   "display_name": "Python 3",
   "language": "python",
   "name": "python3"
  },
  "language_info": {
   "codemirror_mode": {
    "name": "ipython",
    "version": 3
   },
   "file_extension": ".py",
   "mimetype": "text/x-python",
   "name": "python",
   "nbconvert_exporter": "python",
   "pygments_lexer": "ipython3",
   "version": "3.6.12"
  }
 },
 "nbformat": 4,
 "nbformat_minor": 5
}
