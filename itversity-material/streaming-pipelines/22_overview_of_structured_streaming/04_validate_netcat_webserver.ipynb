{
 "cells": [
  {
   "cell_type": "markdown",
   "id": "57a44c27",
   "metadata": {},
   "source": [
    "## Validate Netcat Webserver\n",
    "\n",
    "It is important to have streaming logs to explore details about Spark Structured Streaming and then get into Databricks Cloud Files. We have already installed log message generator on a server. Let us understand how we can push those messages to simulated Netcat web server.\n",
    "\n",
    "**Brief overview of Netcat**\n",
    "\n",
    "Let us get an overview of Netcat before setting up simulated web server using the same.\n",
    "\n",
    "* Netcat (`nc`) is a simple web server which can be installed on any Linux based server.\n",
    "* The driver node or the master node of Databricks cluster already have `nc` pre-installed.\n",
    "* We can start a simple web server using commands such as `nc -l -p <port_number>`\n",
    "* We can also redirect logs into that web server, which is useful for us to learn topics such as Spark Structured Streaming.\n",
    "\n"
   ]
  },
  {
   "cell_type": "code",
   "execution_count": null,
   "id": "43096b7d",
   "metadata": {},
   "outputs": [],
   "source": []
  }
 ],
 "metadata": {
  "kernelspec": {
   "display_name": "Python 3",
   "language": "python",
   "name": "python3"
  },
  "language_info": {
   "codemirror_mode": {
    "name": "ipython",
    "version": 3
   },
   "file_extension": ".py",
   "mimetype": "text/x-python",
   "name": "python",
   "nbconvert_exporter": "python",
   "pygments_lexer": "ipython3",
   "version": "3.6.12"
  }
 },
 "nbformat": 4,
 "nbformat_minor": 5
}
