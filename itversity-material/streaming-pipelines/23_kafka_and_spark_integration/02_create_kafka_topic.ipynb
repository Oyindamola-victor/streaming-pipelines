{
 "cells": [
  {
   "cell_type": "code",
   "execution_count": 1,
   "id": "c724e7af",
   "metadata": {},
   "outputs": [
    {
     "name": "stdout",
     "output_type": "stream",
     "text": [
      "Topic itversity_retail is marked for deletion.\n",
      "Note: This will have no impact if delete.topic.enable is not set to true.\n"
     ]
    }
   ],
   "source": [
    "!/opt/kafka/bin/kafka-topics.sh \\\n",
    "    --zookeeper m01.itversity.com:2181,m02.itversity.com:2181,w01.itversity.com:2181 \\\n",
    "    --delete \\\n",
    "    --topic ${USER}_retail"
   ]
  },
  {
   "cell_type": "code",
   "execution_count": 2,
   "id": "0dc49f2e",
   "metadata": {},
   "outputs": [
    {
     "name": "stdout",
     "output_type": "stream",
     "text": [
      "WARNING: Due to limitations in metric names, topics with a period ('.') or underscore ('_') could collide. To avoid issues it is best to use either, but not both.\n",
      "Created topic itversity_retail.\n"
     ]
    }
   ],
   "source": [
    "!/opt/kafka/bin/kafka-topics.sh \\\n",
    "    --zookeeper m01.itversity.com:2181,m02.itversity.com:2181,w01.itversity.com:2181 \\\n",
    "    --create \\\n",
    "    --topic ${USER}_retail \\\n",
    "    --partitions 3 \\\n",
    "    --replication-factor 2"
   ]
  },
  {
   "cell_type": "code",
   "execution_count": 3,
   "id": "f5c33e3a",
   "metadata": {},
   "outputs": [
    {
     "name": "stdout",
     "output_type": "stream",
     "text": [
      "itversity_retail\n"
     ]
    }
   ],
   "source": [
    "!/opt/kafka/bin/kafka-topics.sh \\\n",
    "    --zookeeper m01.itversity.com:2181,m02.itversity.com:2181,w01.itversity.com:2181 \\\n",
    "    --list \\\n",
    "    --topic ${USER}_retail"
   ]
  },
  {
   "cell_type": "code",
   "execution_count": 4,
   "id": "65a8bbb3",
   "metadata": {},
   "outputs": [
    {
     "name": "stdout",
     "output_type": "stream",
     "text": [
      "Topic: itversity_retail\tPartitionCount: 3\tReplicationFactor: 2\tConfigs: \n",
      "\tTopic: itversity_retail\tPartition: 0\tLeader: 3\tReplicas: 3,2\tIsr: 3,2\n",
      "\tTopic: itversity_retail\tPartition: 1\tLeader: 1\tReplicas: 1,3\tIsr: 1,3\n",
      "\tTopic: itversity_retail\tPartition: 2\tLeader: 2\tReplicas: 2,1\tIsr: 2,1\n"
     ]
    }
   ],
   "source": [
    "!/opt/kafka/bin/kafka-topics.sh \\\n",
    "    --zookeeper m01.itversity.com:2181,m02.itversity.com:2181,w01.itversity.com:2181 \\\n",
    "    --describe \\\n",
    "    --topic ${USER}_retail"
   ]
  },
  {
   "cell_type": "code",
   "execution_count": null,
   "id": "ff78812b",
   "metadata": {},
   "outputs": [],
   "source": []
  }
 ],
 "metadata": {
  "kernelspec": {
   "display_name": "Python 3",
   "language": "python",
   "name": "python3"
  },
  "language_info": {
   "codemirror_mode": {
    "name": "ipython",
    "version": 3
   },
   "file_extension": ".py",
   "mimetype": "text/x-python",
   "name": "python",
   "nbconvert_exporter": "python",
   "pygments_lexer": "ipython3",
   "version": "3.6.12"
  }
 },
 "nbformat": 4,
 "nbformat_minor": 5
}
