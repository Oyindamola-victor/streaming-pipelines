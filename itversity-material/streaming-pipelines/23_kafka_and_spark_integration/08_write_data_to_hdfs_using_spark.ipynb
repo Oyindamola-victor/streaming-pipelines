{
 "cells": [
  {
   "cell_type": "code",
   "execution_count": 2,
   "id": "947ef8f8",
   "metadata": {},
   "outputs": [],
   "source": [
    "from pyspark.sql import SparkSession\n",
    "\n",
    "import getpass\n",
    "username = getpass.getuser()\n",
    "\n",
    "spark = SparkSession. \\\n",
    "    builder. \\\n",
    "    config('spark.jars.packages', 'org.apache.spark:spark-sql-kafka-0-10_2.12:3.0.1'). \\\n",
    "    config('spark.ui.port', '0'). \\\n",
    "    config('spark.sql.warehouse.dir', f'/user/{username}/warehouse'). \\\n",
    "    enableHiveSupport(). \\\n",
    "    appName(f'{username} | Python - Kafka and Spark Integration'). \\\n",
    "    master('yarn'). \\\n",
    "    getOrCreate()"
   ]
  },
  {
   "cell_type": "code",
   "execution_count": 3,
   "id": "f60388ad",
   "metadata": {},
   "outputs": [],
   "source": [
    "kafka_bootstrap_servers = 'w01.itversity.com:9092,w02.itversity.com:9092'"
   ]
  },
  {
   "cell_type": "code",
   "execution_count": 4,
   "id": "a62d5568",
   "metadata": {},
   "outputs": [],
   "source": [
    "df = spark. \\\n",
    "  readStream. \\\n",
    "  format('kafka'). \\\n",
    "  option('kafka.bootstrap.servers', kafka_bootstrap_servers). \\\n",
    "  option('subscribe', f'{username}_retail'). \\\n",
    "  load()"
   ]
  },
  {
   "cell_type": "code",
   "execution_count": 5,
   "id": "2242bd94",
   "metadata": {},
   "outputs": [],
   "source": [
    "from pyspark.sql.functions import date_format, to_date, split, substring"
   ]
  },
  {
   "cell_type": "code",
   "execution_count": 6,
   "id": "3576aa4d",
   "metadata": {},
   "outputs": [
    {
     "name": "stdout",
     "output_type": "stream",
     "text": [
      "root\n",
      " |-- key: string (nullable = true)\n",
      " |-- value: string (nullable = true)\n",
      "\n"
     ]
    }
   ],
   "source": [
    "df.selectExpr(\"CAST(key AS STRING) AS key\", \"CAST(value AS STRING) AS value\").printSchema()"
   ]
  },
  {
   "cell_type": "code",
   "execution_count": 7,
   "id": "2155f615",
   "metadata": {},
   "outputs": [
    {
     "data": {
      "text/plain": [
       "<pyspark.sql.streaming.StreamingQuery at 0x7ff1e5f972b0>"
      ]
     },
     "execution_count": 7,
     "metadata": {},
     "output_type": "execute_result"
    }
   ],
   "source": [
    "df.selectExpr(\"CAST(key AS STRING)\", \"CAST(value AS STRING)\"). \\\n",
    "    withColumn('log_date', to_date(substring(split('value', ' ')[3], 2, 21), '[dd/MMM/yyyy:HH:mm:ss')). \\\n",
    "    withColumn('year', date_format('log_date', 'yyyy')). \\\n",
    "    withColumn('month', date_format('log_date', 'MM')). \\\n",
    "    withColumn('dayofmonth', date_format('log_date', 'dd')). \\\n",
    "    writeStream. \\\n",
    "    partitionBy('year', 'month', 'dayofmonth'). \\\n",
    "    format('csv'). \\\n",
    "    option(\"checkpointLocation\", f'/user/{username}/kafka/retail_logs/gen_logs/checkpoint'). \\\n",
    "    option('path', f'/user/{username}/kafka/retail_logs/gen_logs/data'). \\\n",
    "    trigger(processingTime='30 seconds'). \\\n",
    "    start()"
   ]
  },
  {
   "cell_type": "code",
   "execution_count": 8,
   "id": "8b8c0bb4",
   "metadata": {},
   "outputs": [
    {
     "name": "stdout",
     "output_type": "stream",
     "text": [
      "Found 2 items\n",
      "drwxr-xr-x   - itversity itversity          0 2021-08-22 13:51 /user/itversity/kafka/retail_logs/gen_logs/checkpoint\n",
      "drwxr-xr-x   - itversity itversity          0 2021-08-22 13:51 /user/itversity/kafka/retail_logs/gen_logs/data\n"
     ]
    }
   ],
   "source": [
    "!hdfs dfs -ls /user/${USER}/kafka/retail_logs/gen_logs"
   ]
  },
  {
   "cell_type": "code",
   "execution_count": 10,
   "id": "bb98057a",
   "metadata": {},
   "outputs": [
    {
     "name": "stdout",
     "output_type": "stream",
     "text": [
      "drwxr-xr-x   - itversity itversity          0 2021-08-22 13:53 /user/itversity/kafka/retail_logs/gen_logs/data/_spark_metadata\n",
      "-rw-r--r--   3 itversity itversity          2 2021-08-22 13:52 /user/itversity/kafka/retail_logs/gen_logs/data/_spark_metadata/0\n",
      "-rw-r--r--   3 itversity itversity        884 2021-08-22 13:52 /user/itversity/kafka/retail_logs/gen_logs/data/_spark_metadata/1\n",
      "-rw-r--r--   3 itversity itversity        887 2021-08-22 13:52 /user/itversity/kafka/retail_logs/gen_logs/data/_spark_metadata/2\n",
      "-rw-r--r--   3 itversity itversity        887 2021-08-22 13:53 /user/itversity/kafka/retail_logs/gen_logs/data/_spark_metadata/3\n",
      "drwxr-xr-x   - itversity itversity          0 2021-08-22 13:52 /user/itversity/kafka/retail_logs/gen_logs/data/year=2021\n",
      "drwxr-xr-x   - itversity itversity          0 2021-08-22 13:52 /user/itversity/kafka/retail_logs/gen_logs/data/year=2021/month=08\n",
      "drwxr-xr-x   - itversity itversity          0 2021-08-22 13:53 /user/itversity/kafka/retail_logs/gen_logs/data/year=2021/month=08/dayofmonth=22\n",
      "-rw-r--r--   3 itversity itversity        217 2021-08-22 13:52 /user/itversity/kafka/retail_logs/gen_logs/data/year=2021/month=08/dayofmonth=22/part-00000-2799c479-d99a-4364-9cac-ce6fbd8b3ddb.c000.csv\n",
      "-rw-r--r--   3 itversity itversity       2670 2021-08-22 13:53 /user/itversity/kafka/retail_logs/gen_logs/data/year=2021/month=08/dayofmonth=22/part-00000-a5b8f0df-2f05-4897-8651-648895d82520.c000.csv\n",
      "-rw-r--r--   3 itversity itversity       2519 2021-08-22 13:52 /user/itversity/kafka/retail_logs/gen_logs/data/year=2021/month=08/dayofmonth=22/part-00000-d9fd867b-e2d7-4cde-b6f8-fc7c1e865258.c000.csv\n",
      "-rw-r--r--   3 itversity itversity        732 2021-08-22 13:52 /user/itversity/kafka/retail_logs/gen_logs/data/year=2021/month=08/dayofmonth=22/part-00001-a01b0b05-b77f-46be-ba53-8d89915b459d.c000.csv\n",
      "-rw-r--r--   3 itversity itversity       2243 2021-08-22 13:53 /user/itversity/kafka/retail_logs/gen_logs/data/year=2021/month=08/dayofmonth=22/part-00001-ac6d0fa0-7fce-4234-b88e-7b5bd2c990e7.c000.csv\n",
      "-rw-r--r--   3 itversity itversity       1976 2021-08-22 13:52 /user/itversity/kafka/retail_logs/gen_logs/data/year=2021/month=08/dayofmonth=22/part-00001-f2971084-a638-4ad4-ba1b-bd84338aed76.c000.csv\n",
      "-rw-r--r--   3 itversity itversity       1723 2021-08-22 13:53 /user/itversity/kafka/retail_logs/gen_logs/data/year=2021/month=08/dayofmonth=22/part-00002-82f99cdf-95d0-4291-b2f0-61780c1e50e7.c000.csv\n",
      "-rw-r--r--   3 itversity itversity       2210 2021-08-22 13:52 /user/itversity/kafka/retail_logs/gen_logs/data/year=2021/month=08/dayofmonth=22/part-00002-ae0d4bd8-4cce-409a-834d-037b4cfad8e5.c000.csv\n",
      "-rw-r--r--   3 itversity itversity        473 2021-08-22 13:52 /user/itversity/kafka/retail_logs/gen_logs/data/year=2021/month=08/dayofmonth=22/part-00002-c0b90713-7bca-411e-8097-89059d769a1d.c000.csv\n"
     ]
    }
   ],
   "source": [
    "!hdfs dfs -ls -R /user/${USER}/kafka/retail_logs/gen_logs/data"
   ]
  },
  {
   "cell_type": "code",
   "execution_count": null,
   "id": "02c7d855",
   "metadata": {},
   "outputs": [],
   "source": []
  }
 ],
 "metadata": {
  "kernelspec": {
   "display_name": "Pyspark 3",
   "language": "python",
   "name": "pyspark3"
  },
  "language_info": {
   "codemirror_mode": {
    "name": "ipython",
    "version": 3
   },
   "file_extension": ".py",
   "mimetype": "text/x-python",
   "name": "python",
   "nbconvert_exporter": "python",
   "pygments_lexer": "ipython3",
   "version": "3.6.12"
  }
 },
 "nbformat": 4,
 "nbformat_minor": 5
}
